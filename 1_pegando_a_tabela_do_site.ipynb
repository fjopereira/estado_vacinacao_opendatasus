{
  "nbformat": 4,
  "nbformat_minor": 0,
  "metadata": {
    "colab": {
      "name": "1-pegando a tabela do site.ipynb",
      "provenance": [],
      "collapsed_sections": [],
      "authorship_tag": "ABX9TyMURHA8qBN0VqvdzZclNaFS",
      "include_colab_link": true
    },
    "kernelspec": {
      "name": "python3",
      "display_name": "Python 3"
    },
    "language_info": {
      "name": "python"
    }
  },
  "cells": [
    {
      "cell_type": "markdown",
      "metadata": {
        "id": "view-in-github",
        "colab_type": "text"
      },
      "source": [
        "<a href=\"https://colab.research.google.com/github/fjopereira/estado_vacinacao_opendatasus/blob/main/1_pegando_a_tabela_do_site.ipynb\" target=\"_parent\"><img src=\"https://colab.research.google.com/assets/colab-badge.svg\" alt=\"Open In Colab\"/></a>"
      ]
    },
    {
      "cell_type": "markdown",
      "metadata": {
        "id": "1d40qZQMXAut"
      },
      "source": [
        "#Pegando os dados da tabela do site passado"
      ]
    },
    {
      "cell_type": "code",
      "metadata": {
        "id": "a49q-x37WrOG"
      },
      "source": [
        "#imports\n",
        "import pandas as pd\n",
        "import requests\n",
        "from bs4 import BeautifulSoup"
      ],
      "execution_count": null,
      "outputs": []
    },
    {
      "cell_type": "markdown",
      "metadata": {
        "id": "GEeP7uQCXQwg"
      },
      "source": [
        "recebe as informações do link passado"
      ]
    },
    {
      "cell_type": "code",
      "metadata": {
        "id": "RilSg5cQW55B"
      },
      "source": [
        "response = requests.get(\"http://www.bibliotecavirtual.sp.gov.br/temas/sao-paulo/sao-paulo-populacao-do-estado.php\")"
      ],
      "execution_count": null,
      "outputs": []
    },
    {
      "cell_type": "markdown",
      "metadata": {
        "id": "aY7SL6bvXi8k"
      },
      "source": [
        "passando o conteúdo para uma variável"
      ]
    },
    {
      "cell_type": "code",
      "metadata": {
        "colab": {
          "base_uri": "https://localhost:8080/"
        },
        "id": "SOcHf1A8XnD7",
        "outputId": "0ee47255-d49a-42e8-9ede-d5f5f79e1aff"
      },
      "source": [
        "if response.status_code==200:\n",
        "    print('A requição foi um sucesso!')\n",
        "    #recebe o html da página\n",
        "    content = response.content"
      ],
      "execution_count": null,
      "outputs": [
        {
          "output_type": "stream",
          "text": [
            "A requição foi um sucesso!\n"
          ],
          "name": "stdout"
        }
      ]
    },
    {
      "cell_type": "markdown",
      "metadata": {
        "id": "fR3wjvdbXrTk"
      },
      "source": [
        "converte para um objeto BeautifulSoup"
      ]
    },
    {
      "cell_type": "code",
      "metadata": {
        "id": "e8Cqwp4QXu6P"
      },
      "source": [
        "site = BeautifulSoup(content, 'html.parser')"
      ],
      "execution_count": null,
      "outputs": []
    },
    {
      "cell_type": "markdown",
      "metadata": {
        "id": "6CeCHzgZXy4L"
      },
      "source": [
        "busca na div o conteúdo da tabela\n"
      ]
    },
    {
      "cell_type": "code",
      "metadata": {
        "id": "A3X-hFb8X7Ej"
      },
      "source": [
        "div_table = site.find('div', attrs={'class':'tab-pane active'})"
      ],
      "execution_count": null,
      "outputs": []
    },
    {
      "cell_type": "markdown",
      "metadata": {
        "id": "S47Y-l38X-Ch"
      },
      "source": [
        "filtra somente o conteúdo da tabela"
      ]
    },
    {
      "cell_type": "code",
      "metadata": {
        "id": "GGb8zEkHYH1G"
      },
      "source": [
        "table = div_table.find('table', attrs={'class': 'table table-sm table-striped'})"
      ],
      "execution_count": null,
      "outputs": []
    },
    {
      "cell_type": "markdown",
      "metadata": {
        "id": "xoplHNGpYLRL"
      },
      "source": [
        "converte a tabela em uma dt"
      ]
    },
    {
      "cell_type": "code",
      "metadata": {
        "id": "W8_eOI6ZYNZ8"
      },
      "source": [
        "table_str = str(table)\n",
        "df = pd.read_html(table_str)[0]"
      ],
      "execution_count": null,
      "outputs": []
    },
    {
      "cell_type": "markdown",
      "metadata": {
        "id": "sU14Z38AYYLF"
      },
      "source": [
        "imprime na tela o df"
      ]
    },
    {
      "cell_type": "code",
      "metadata": {
        "colab": {
          "base_uri": "https://localhost:8080/",
          "height": 865
        },
        "id": "di8IKiU2YWC9",
        "outputId": "cbc0ae69-9399-4a7e-c4a1-8b3a3bebd634"
      },
      "source": [
        "df.sort_values(by='Estado').reset_index()"
      ],
      "execution_count": null,
      "outputs": [
        {
          "output_type": "execute_result",
          "data": {
            "text/html": [
              "<div>\n",
              "<style scoped>\n",
              "    .dataframe tbody tr th:only-of-type {\n",
              "        vertical-align: middle;\n",
              "    }\n",
              "\n",
              "    .dataframe tbody tr th {\n",
              "        vertical-align: top;\n",
              "    }\n",
              "\n",
              "    .dataframe thead th {\n",
              "        text-align: right;\n",
              "    }\n",
              "</style>\n",
              "<table border=\"1\" class=\"dataframe\">\n",
              "  <thead>\n",
              "    <tr style=\"text-align: right;\">\n",
              "      <th></th>\n",
              "      <th>index</th>\n",
              "      <th>Estado</th>\n",
              "      <th>Habitantes</th>\n",
              "    </tr>\n",
              "  </thead>\n",
              "  <tbody>\n",
              "    <tr>\n",
              "      <th>0</th>\n",
              "      <td>24</td>\n",
              "      <td>Acre</td>\n",
              "      <td>894.470</td>\n",
              "    </tr>\n",
              "    <tr>\n",
              "      <th>1</th>\n",
              "      <td>17</td>\n",
              "      <td>Alagoas</td>\n",
              "      <td>3.351.543</td>\n",
              "    </tr>\n",
              "    <tr>\n",
              "      <th>2</th>\n",
              "      <td>25</td>\n",
              "      <td>Amapá</td>\n",
              "      <td>861.773</td>\n",
              "    </tr>\n",
              "    <tr>\n",
              "      <th>3</th>\n",
              "      <td>12</td>\n",
              "      <td>Amazonas</td>\n",
              "      <td>4.207.714</td>\n",
              "    </tr>\n",
              "    <tr>\n",
              "      <th>4</th>\n",
              "      <td>3</td>\n",
              "      <td>Bahia</td>\n",
              "      <td>14.930.634</td>\n",
              "    </tr>\n",
              "    <tr>\n",
              "      <th>5</th>\n",
              "      <td>7</td>\n",
              "      <td>Ceará</td>\n",
              "      <td>9.187.103</td>\n",
              "    </tr>\n",
              "    <tr>\n",
              "      <th>6</th>\n",
              "      <td>19</td>\n",
              "      <td>Distrito Federal</td>\n",
              "      <td>3.055.149</td>\n",
              "    </tr>\n",
              "    <tr>\n",
              "      <th>7</th>\n",
              "      <td>13</td>\n",
              "      <td>Espírito Santo</td>\n",
              "      <td>4.064.052</td>\n",
              "    </tr>\n",
              "    <tr>\n",
              "      <th>8</th>\n",
              "      <td>11</td>\n",
              "      <td>Goiás</td>\n",
              "      <td>7.113.540</td>\n",
              "    </tr>\n",
              "    <tr>\n",
              "      <th>9</th>\n",
              "      <td>10</td>\n",
              "      <td>Maranhão</td>\n",
              "      <td>7.114.598</td>\n",
              "    </tr>\n",
              "    <tr>\n",
              "      <th>10</th>\n",
              "      <td>16</td>\n",
              "      <td>Mato Grosso</td>\n",
              "      <td>3.526.220</td>\n",
              "    </tr>\n",
              "    <tr>\n",
              "      <th>11</th>\n",
              "      <td>20</td>\n",
              "      <td>Mato Grosso do Sul</td>\n",
              "      <td>2.809.394</td>\n",
              "    </tr>\n",
              "    <tr>\n",
              "      <th>12</th>\n",
              "      <td>1</td>\n",
              "      <td>Minas Gerais</td>\n",
              "      <td>21.292.666</td>\n",
              "    </tr>\n",
              "    <tr>\n",
              "      <th>13</th>\n",
              "      <td>4</td>\n",
              "      <td>Paraná</td>\n",
              "      <td>11.516.840</td>\n",
              "    </tr>\n",
              "    <tr>\n",
              "      <th>14</th>\n",
              "      <td>14</td>\n",
              "      <td>Paraíba</td>\n",
              "      <td>4.039.277</td>\n",
              "    </tr>\n",
              "    <tr>\n",
              "      <th>15</th>\n",
              "      <td>8</td>\n",
              "      <td>Pará</td>\n",
              "      <td>8.690.745</td>\n",
              "    </tr>\n",
              "    <tr>\n",
              "      <th>16</th>\n",
              "      <td>6</td>\n",
              "      <td>Pernambuco</td>\n",
              "      <td>9.616.621</td>\n",
              "    </tr>\n",
              "    <tr>\n",
              "      <th>17</th>\n",
              "      <td>18</td>\n",
              "      <td>Piauí</td>\n",
              "      <td>3.281.480</td>\n",
              "    </tr>\n",
              "    <tr>\n",
              "      <th>18</th>\n",
              "      <td>15</td>\n",
              "      <td>Rio Grande do Norte</td>\n",
              "      <td>3.534.165</td>\n",
              "    </tr>\n",
              "    <tr>\n",
              "      <th>19</th>\n",
              "      <td>5</td>\n",
              "      <td>Rio Grande do Sul</td>\n",
              "      <td>11.422.973</td>\n",
              "    </tr>\n",
              "    <tr>\n",
              "      <th>20</th>\n",
              "      <td>2</td>\n",
              "      <td>Rio de Janeiro</td>\n",
              "      <td>17.366.189</td>\n",
              "    </tr>\n",
              "    <tr>\n",
              "      <th>21</th>\n",
              "      <td>22</td>\n",
              "      <td>Rondônia</td>\n",
              "      <td>1.796.460</td>\n",
              "    </tr>\n",
              "    <tr>\n",
              "      <th>22</th>\n",
              "      <td>26</td>\n",
              "      <td>Roraima</td>\n",
              "      <td>631.181</td>\n",
              "    </tr>\n",
              "    <tr>\n",
              "      <th>23</th>\n",
              "      <td>9</td>\n",
              "      <td>Santa Catarina</td>\n",
              "      <td>7.252.502</td>\n",
              "    </tr>\n",
              "    <tr>\n",
              "      <th>24</th>\n",
              "      <td>21</td>\n",
              "      <td>Sergipe</td>\n",
              "      <td>2.318.822</td>\n",
              "    </tr>\n",
              "    <tr>\n",
              "      <th>25</th>\n",
              "      <td>0</td>\n",
              "      <td>São Paulo</td>\n",
              "      <td>44.840.384</td>\n",
              "    </tr>\n",
              "    <tr>\n",
              "      <th>26</th>\n",
              "      <td>23</td>\n",
              "      <td>Tocantins</td>\n",
              "      <td>1.590.248</td>\n",
              "    </tr>\n",
              "  </tbody>\n",
              "</table>\n",
              "</div>"
            ],
            "text/plain": [
              "    index               Estado  Habitantes\n",
              "0      24                 Acre     894.470\n",
              "1      17              Alagoas   3.351.543\n",
              "2      25                Amapá     861.773\n",
              "3      12             Amazonas   4.207.714\n",
              "4       3                Bahia  14.930.634\n",
              "5       7                Ceará   9.187.103\n",
              "6      19     Distrito Federal   3.055.149\n",
              "7      13       Espírito Santo   4.064.052\n",
              "8      11                Goiás   7.113.540\n",
              "9      10             Maranhão   7.114.598\n",
              "10     16          Mato Grosso   3.526.220\n",
              "11     20   Mato Grosso do Sul   2.809.394\n",
              "12      1         Minas Gerais  21.292.666\n",
              "13      4               Paraná  11.516.840\n",
              "14     14              Paraíba   4.039.277\n",
              "15      8                 Pará   8.690.745\n",
              "16      6           Pernambuco   9.616.621\n",
              "17     18                Piauí   3.281.480\n",
              "18     15  Rio Grande do Norte   3.534.165\n",
              "19      5    Rio Grande do Sul  11.422.973\n",
              "20      2       Rio de Janeiro  17.366.189\n",
              "21     22             Rondônia   1.796.460\n",
              "22     26              Roraima     631.181\n",
              "23      9       Santa Catarina   7.252.502\n",
              "24     21              Sergipe   2.318.822\n",
              "25      0            São Paulo  44.840.384\n",
              "26     23            Tocantins   1.590.248"
            ]
          },
          "metadata": {
            "tags": []
          },
          "execution_count": 9
        }
      ]
    },
    {
      "cell_type": "markdown",
      "metadata": {
        "id": "KtbkMlkbB9M4"
      },
      "source": [
        "#Refazendo os passos para pegar uma tabela que contem o UF"
      ]
    },
    {
      "cell_type": "code",
      "metadata": {
        "colab": {
          "base_uri": "https://localhost:8080/"
        },
        "id": "LdLUa5pH-rr7",
        "outputId": "f32c5924-5b97-498d-c162-8772b4deaf48"
      },
      "source": [
        "res = requests.get(\"https://www.todamateria.com.br/siglas-estados-brasileiros/\")\n",
        "if res.status_code==200:\n",
        "    print('A requição foi um sucesso!')\n",
        "    #recebe o html da página\n",
        "    con = res.content\n",
        "soup = BeautifulSoup(con, 'html.parser')\n",
        "tb = soup.find_all(name='table')\n",
        "tb_str = str(tb)\n",
        "df2 = pd.read_html(tb_str)[0]"
      ],
      "execution_count": null,
      "outputs": [
        {
          "output_type": "stream",
          "text": [
            "A requição foi um sucesso!\n"
          ],
          "name": "stdout"
        }
      ]
    },
    {
      "cell_type": "markdown",
      "metadata": {
        "id": "dfrefPpNL3ZT"
      },
      "source": [
        "Renomeando algumas colunas para fazer merge"
      ]
    },
    {
      "cell_type": "code",
      "metadata": {
        "id": "FUFRUUcxBXfR"
      },
      "source": [
        "df2.rename(columns={'Estado do Brasil':'Estado', 'Sigla':'UF'}, inplace=True)\n"
      ],
      "execution_count": null,
      "outputs": []
    },
    {
      "cell_type": "code",
      "metadata": {
        "colab": {
          "base_uri": "https://localhost:8080/",
          "height": 865
        },
        "id": "0PkzX0vUKewM",
        "outputId": "a34a0703-dc74-4769-de06-125d3aef491d"
      },
      "source": [
        "df2"
      ],
      "execution_count": null,
      "outputs": [
        {
          "output_type": "execute_result",
          "data": {
            "text/html": [
              "<div>\n",
              "<style scoped>\n",
              "    .dataframe tbody tr th:only-of-type {\n",
              "        vertical-align: middle;\n",
              "    }\n",
              "\n",
              "    .dataframe tbody tr th {\n",
              "        vertical-align: top;\n",
              "    }\n",
              "\n",
              "    .dataframe thead th {\n",
              "        text-align: right;\n",
              "    }\n",
              "</style>\n",
              "<table border=\"1\" class=\"dataframe\">\n",
              "  <thead>\n",
              "    <tr style=\"text-align: right;\">\n",
              "      <th></th>\n",
              "      <th>Estado</th>\n",
              "      <th>UF</th>\n",
              "      <th>Observação</th>\n",
              "    </tr>\n",
              "  </thead>\n",
              "  <tbody>\n",
              "    <tr>\n",
              "      <th>0</th>\n",
              "      <td>Acre</td>\n",
              "      <td>AC</td>\n",
              "      <td>Localizado na Região Norte</td>\n",
              "    </tr>\n",
              "    <tr>\n",
              "      <th>1</th>\n",
              "      <td>Alagoas</td>\n",
              "      <td>AL</td>\n",
              "      <td>Localizado na Região Nordeste</td>\n",
              "    </tr>\n",
              "    <tr>\n",
              "      <th>2</th>\n",
              "      <td>Amapá</td>\n",
              "      <td>AP</td>\n",
              "      <td>Localizado na Região Norte</td>\n",
              "    </tr>\n",
              "    <tr>\n",
              "      <th>3</th>\n",
              "      <td>Amazonas</td>\n",
              "      <td>AM</td>\n",
              "      <td>Localizado na Região Norte</td>\n",
              "    </tr>\n",
              "    <tr>\n",
              "      <th>4</th>\n",
              "      <td>Bahia</td>\n",
              "      <td>BA</td>\n",
              "      <td>Localizado na Região Nordeste</td>\n",
              "    </tr>\n",
              "    <tr>\n",
              "      <th>5</th>\n",
              "      <td>Ceará</td>\n",
              "      <td>CE</td>\n",
              "      <td>Localizado na Região Nordeste</td>\n",
              "    </tr>\n",
              "    <tr>\n",
              "      <th>6</th>\n",
              "      <td>Distrito Federal</td>\n",
              "      <td>DF</td>\n",
              "      <td>Localizado na Região Centro-Oeste</td>\n",
              "    </tr>\n",
              "    <tr>\n",
              "      <th>7</th>\n",
              "      <td>Espírito Santo</td>\n",
              "      <td>ES</td>\n",
              "      <td>Localizado na Região Sudeste</td>\n",
              "    </tr>\n",
              "    <tr>\n",
              "      <th>8</th>\n",
              "      <td>Goiás</td>\n",
              "      <td>GO</td>\n",
              "      <td>Localizado na Região Centro-Oeste</td>\n",
              "    </tr>\n",
              "    <tr>\n",
              "      <th>9</th>\n",
              "      <td>Maranhão</td>\n",
              "      <td>MA</td>\n",
              "      <td>Localizado na Região Nordeste</td>\n",
              "    </tr>\n",
              "    <tr>\n",
              "      <th>10</th>\n",
              "      <td>Mato Grosso</td>\n",
              "      <td>MT</td>\n",
              "      <td>Localizado na Região Centro-Oeste</td>\n",
              "    </tr>\n",
              "    <tr>\n",
              "      <th>11</th>\n",
              "      <td>Mato Grosso do Sul</td>\n",
              "      <td>MS</td>\n",
              "      <td>Localizado na Região Centro-Oeste</td>\n",
              "    </tr>\n",
              "    <tr>\n",
              "      <th>12</th>\n",
              "      <td>Minas Gerais</td>\n",
              "      <td>MG</td>\n",
              "      <td>Localizado na Região Sudeste</td>\n",
              "    </tr>\n",
              "    <tr>\n",
              "      <th>13</th>\n",
              "      <td>Pará</td>\n",
              "      <td>PA</td>\n",
              "      <td>Localizado na Região Norte</td>\n",
              "    </tr>\n",
              "    <tr>\n",
              "      <th>14</th>\n",
              "      <td>Paraíba</td>\n",
              "      <td>PB</td>\n",
              "      <td>Localizado na Região Nordeste</td>\n",
              "    </tr>\n",
              "    <tr>\n",
              "      <th>15</th>\n",
              "      <td>Paraná</td>\n",
              "      <td>PR</td>\n",
              "      <td>Localizado na Região Sul</td>\n",
              "    </tr>\n",
              "    <tr>\n",
              "      <th>16</th>\n",
              "      <td>Pernambuco</td>\n",
              "      <td>PE</td>\n",
              "      <td>Localizado na Região Nordeste</td>\n",
              "    </tr>\n",
              "    <tr>\n",
              "      <th>17</th>\n",
              "      <td>Piauí</td>\n",
              "      <td>PI</td>\n",
              "      <td>Localizado na Região Nordeste</td>\n",
              "    </tr>\n",
              "    <tr>\n",
              "      <th>18</th>\n",
              "      <td>Rio de Janeiro</td>\n",
              "      <td>RJ</td>\n",
              "      <td>Localizado na Região Sudeste</td>\n",
              "    </tr>\n",
              "    <tr>\n",
              "      <th>19</th>\n",
              "      <td>Rio Grande do Norte</td>\n",
              "      <td>RN</td>\n",
              "      <td>Localizado na Região Nordeste</td>\n",
              "    </tr>\n",
              "    <tr>\n",
              "      <th>20</th>\n",
              "      <td>Rio Grande do Sul</td>\n",
              "      <td>RS</td>\n",
              "      <td>Localizado na Região Sul</td>\n",
              "    </tr>\n",
              "    <tr>\n",
              "      <th>21</th>\n",
              "      <td>Rondônia</td>\n",
              "      <td>RO</td>\n",
              "      <td>Localizado na Região Norte</td>\n",
              "    </tr>\n",
              "    <tr>\n",
              "      <th>22</th>\n",
              "      <td>Roraima</td>\n",
              "      <td>RR</td>\n",
              "      <td>Localizado na Região Norte</td>\n",
              "    </tr>\n",
              "    <tr>\n",
              "      <th>23</th>\n",
              "      <td>Santa Catarina</td>\n",
              "      <td>SC</td>\n",
              "      <td>Localizado na Região Sul</td>\n",
              "    </tr>\n",
              "    <tr>\n",
              "      <th>24</th>\n",
              "      <td>São Paulo</td>\n",
              "      <td>SP</td>\n",
              "      <td>Localizado na Região Sudeste</td>\n",
              "    </tr>\n",
              "    <tr>\n",
              "      <th>25</th>\n",
              "      <td>Sergipe</td>\n",
              "      <td>SE</td>\n",
              "      <td>Localizado na Região Nordeste</td>\n",
              "    </tr>\n",
              "    <tr>\n",
              "      <th>26</th>\n",
              "      <td>Tocantins</td>\n",
              "      <td>TO</td>\n",
              "      <td>Localizado na Região Norte</td>\n",
              "    </tr>\n",
              "  </tbody>\n",
              "</table>\n",
              "</div>"
            ],
            "text/plain": [
              "                 Estado  UF                         Observação\n",
              "0                  Acre  AC         Localizado na Região Norte\n",
              "1               Alagoas  AL      Localizado na Região Nordeste\n",
              "2                 Amapá  AP         Localizado na Região Norte\n",
              "3              Amazonas  AM         Localizado na Região Norte\n",
              "4                 Bahia  BA      Localizado na Região Nordeste\n",
              "5                 Ceará  CE      Localizado na Região Nordeste\n",
              "6      Distrito Federal  DF  Localizado na Região Centro-Oeste\n",
              "7        Espírito Santo  ES       Localizado na Região Sudeste\n",
              "8                 Goiás  GO  Localizado na Região Centro-Oeste\n",
              "9              Maranhão  MA      Localizado na Região Nordeste\n",
              "10          Mato Grosso  MT  Localizado na Região Centro-Oeste\n",
              "11   Mato Grosso do Sul  MS  Localizado na Região Centro-Oeste\n",
              "12         Minas Gerais  MG       Localizado na Região Sudeste\n",
              "13                 Pará  PA         Localizado na Região Norte\n",
              "14              Paraíba  PB      Localizado na Região Nordeste\n",
              "15               Paraná  PR           Localizado na Região Sul\n",
              "16           Pernambuco  PE      Localizado na Região Nordeste\n",
              "17                Piauí  PI      Localizado na Região Nordeste\n",
              "18       Rio de Janeiro  RJ       Localizado na Região Sudeste\n",
              "19  Rio Grande do Norte  RN      Localizado na Região Nordeste\n",
              "20    Rio Grande do Sul  RS           Localizado na Região Sul\n",
              "21             Rondônia  RO         Localizado na Região Norte\n",
              "22              Roraima  RR         Localizado na Região Norte\n",
              "23       Santa Catarina  SC           Localizado na Região Sul\n",
              "24            São Paulo  SP       Localizado na Região Sudeste\n",
              "25              Sergipe  SE      Localizado na Região Nordeste\n",
              "26            Tocantins  TO         Localizado na Região Norte"
            ]
          },
          "metadata": {
            "tags": []
          },
          "execution_count": 12
        }
      ]
    },
    {
      "cell_type": "markdown",
      "metadata": {
        "id": "_uXwlinsMEFE"
      },
      "source": [
        "Juntanto as DFs"
      ]
    },
    {
      "cell_type": "code",
      "metadata": {
        "id": "E2-misdiDZWw"
      },
      "source": [
        "df = pd.merge(df, df2, how='outer')"
      ],
      "execution_count": null,
      "outputs": []
    },
    {
      "cell_type": "markdown",
      "metadata": {
        "id": "CclfUab27ctD"
      },
      "source": [
        "#Resultado final"
      ]
    },
    {
      "cell_type": "code",
      "metadata": {
        "colab": {
          "base_uri": "https://localhost:8080/",
          "height": 865
        },
        "id": "omsNTeaGKons",
        "outputId": "772692b1-2e9a-4897-c2f2-fcf18254e701"
      },
      "source": [
        "df"
      ],
      "execution_count": null,
      "outputs": [
        {
          "output_type": "execute_result",
          "data": {
            "text/html": [
              "<div>\n",
              "<style scoped>\n",
              "    .dataframe tbody tr th:only-of-type {\n",
              "        vertical-align: middle;\n",
              "    }\n",
              "\n",
              "    .dataframe tbody tr th {\n",
              "        vertical-align: top;\n",
              "    }\n",
              "\n",
              "    .dataframe thead th {\n",
              "        text-align: right;\n",
              "    }\n",
              "</style>\n",
              "<table border=\"1\" class=\"dataframe\">\n",
              "  <thead>\n",
              "    <tr style=\"text-align: right;\">\n",
              "      <th></th>\n",
              "      <th>Estado</th>\n",
              "      <th>Habitantes</th>\n",
              "      <th>UF</th>\n",
              "      <th>Observação</th>\n",
              "    </tr>\n",
              "  </thead>\n",
              "  <tbody>\n",
              "    <tr>\n",
              "      <th>0</th>\n",
              "      <td>São Paulo</td>\n",
              "      <td>44.840.384</td>\n",
              "      <td>SP</td>\n",
              "      <td>Localizado na Região Sudeste</td>\n",
              "    </tr>\n",
              "    <tr>\n",
              "      <th>1</th>\n",
              "      <td>Minas Gerais</td>\n",
              "      <td>21.292.666</td>\n",
              "      <td>MG</td>\n",
              "      <td>Localizado na Região Sudeste</td>\n",
              "    </tr>\n",
              "    <tr>\n",
              "      <th>2</th>\n",
              "      <td>Rio de Janeiro</td>\n",
              "      <td>17.366.189</td>\n",
              "      <td>RJ</td>\n",
              "      <td>Localizado na Região Sudeste</td>\n",
              "    </tr>\n",
              "    <tr>\n",
              "      <th>3</th>\n",
              "      <td>Bahia</td>\n",
              "      <td>14.930.634</td>\n",
              "      <td>BA</td>\n",
              "      <td>Localizado na Região Nordeste</td>\n",
              "    </tr>\n",
              "    <tr>\n",
              "      <th>4</th>\n",
              "      <td>Paraná</td>\n",
              "      <td>11.516.840</td>\n",
              "      <td>PR</td>\n",
              "      <td>Localizado na Região Sul</td>\n",
              "    </tr>\n",
              "    <tr>\n",
              "      <th>5</th>\n",
              "      <td>Rio Grande do Sul</td>\n",
              "      <td>11.422.973</td>\n",
              "      <td>RS</td>\n",
              "      <td>Localizado na Região Sul</td>\n",
              "    </tr>\n",
              "    <tr>\n",
              "      <th>6</th>\n",
              "      <td>Pernambuco</td>\n",
              "      <td>9.616.621</td>\n",
              "      <td>PE</td>\n",
              "      <td>Localizado na Região Nordeste</td>\n",
              "    </tr>\n",
              "    <tr>\n",
              "      <th>7</th>\n",
              "      <td>Ceará</td>\n",
              "      <td>9.187.103</td>\n",
              "      <td>CE</td>\n",
              "      <td>Localizado na Região Nordeste</td>\n",
              "    </tr>\n",
              "    <tr>\n",
              "      <th>8</th>\n",
              "      <td>Pará</td>\n",
              "      <td>8.690.745</td>\n",
              "      <td>PA</td>\n",
              "      <td>Localizado na Região Norte</td>\n",
              "    </tr>\n",
              "    <tr>\n",
              "      <th>9</th>\n",
              "      <td>Santa Catarina</td>\n",
              "      <td>7.252.502</td>\n",
              "      <td>SC</td>\n",
              "      <td>Localizado na Região Sul</td>\n",
              "    </tr>\n",
              "    <tr>\n",
              "      <th>10</th>\n",
              "      <td>Maranhão</td>\n",
              "      <td>7.114.598</td>\n",
              "      <td>MA</td>\n",
              "      <td>Localizado na Região Nordeste</td>\n",
              "    </tr>\n",
              "    <tr>\n",
              "      <th>11</th>\n",
              "      <td>Goiás</td>\n",
              "      <td>7.113.540</td>\n",
              "      <td>GO</td>\n",
              "      <td>Localizado na Região Centro-Oeste</td>\n",
              "    </tr>\n",
              "    <tr>\n",
              "      <th>12</th>\n",
              "      <td>Amazonas</td>\n",
              "      <td>4.207.714</td>\n",
              "      <td>AM</td>\n",
              "      <td>Localizado na Região Norte</td>\n",
              "    </tr>\n",
              "    <tr>\n",
              "      <th>13</th>\n",
              "      <td>Espírito Santo</td>\n",
              "      <td>4.064.052</td>\n",
              "      <td>ES</td>\n",
              "      <td>Localizado na Região Sudeste</td>\n",
              "    </tr>\n",
              "    <tr>\n",
              "      <th>14</th>\n",
              "      <td>Paraíba</td>\n",
              "      <td>4.039.277</td>\n",
              "      <td>PB</td>\n",
              "      <td>Localizado na Região Nordeste</td>\n",
              "    </tr>\n",
              "    <tr>\n",
              "      <th>15</th>\n",
              "      <td>Rio Grande do Norte</td>\n",
              "      <td>3.534.165</td>\n",
              "      <td>RN</td>\n",
              "      <td>Localizado na Região Nordeste</td>\n",
              "    </tr>\n",
              "    <tr>\n",
              "      <th>16</th>\n",
              "      <td>Mato Grosso</td>\n",
              "      <td>3.526.220</td>\n",
              "      <td>MT</td>\n",
              "      <td>Localizado na Região Centro-Oeste</td>\n",
              "    </tr>\n",
              "    <tr>\n",
              "      <th>17</th>\n",
              "      <td>Alagoas</td>\n",
              "      <td>3.351.543</td>\n",
              "      <td>AL</td>\n",
              "      <td>Localizado na Região Nordeste</td>\n",
              "    </tr>\n",
              "    <tr>\n",
              "      <th>18</th>\n",
              "      <td>Piauí</td>\n",
              "      <td>3.281.480</td>\n",
              "      <td>PI</td>\n",
              "      <td>Localizado na Região Nordeste</td>\n",
              "    </tr>\n",
              "    <tr>\n",
              "      <th>19</th>\n",
              "      <td>Distrito Federal</td>\n",
              "      <td>3.055.149</td>\n",
              "      <td>DF</td>\n",
              "      <td>Localizado na Região Centro-Oeste</td>\n",
              "    </tr>\n",
              "    <tr>\n",
              "      <th>20</th>\n",
              "      <td>Mato Grosso do Sul</td>\n",
              "      <td>2.809.394</td>\n",
              "      <td>MS</td>\n",
              "      <td>Localizado na Região Centro-Oeste</td>\n",
              "    </tr>\n",
              "    <tr>\n",
              "      <th>21</th>\n",
              "      <td>Sergipe</td>\n",
              "      <td>2.318.822</td>\n",
              "      <td>SE</td>\n",
              "      <td>Localizado na Região Nordeste</td>\n",
              "    </tr>\n",
              "    <tr>\n",
              "      <th>22</th>\n",
              "      <td>Rondônia</td>\n",
              "      <td>1.796.460</td>\n",
              "      <td>RO</td>\n",
              "      <td>Localizado na Região Norte</td>\n",
              "    </tr>\n",
              "    <tr>\n",
              "      <th>23</th>\n",
              "      <td>Tocantins</td>\n",
              "      <td>1.590.248</td>\n",
              "      <td>TO</td>\n",
              "      <td>Localizado na Região Norte</td>\n",
              "    </tr>\n",
              "    <tr>\n",
              "      <th>24</th>\n",
              "      <td>Acre</td>\n",
              "      <td>894.470</td>\n",
              "      <td>AC</td>\n",
              "      <td>Localizado na Região Norte</td>\n",
              "    </tr>\n",
              "    <tr>\n",
              "      <th>25</th>\n",
              "      <td>Amapá</td>\n",
              "      <td>861.773</td>\n",
              "      <td>AP</td>\n",
              "      <td>Localizado na Região Norte</td>\n",
              "    </tr>\n",
              "    <tr>\n",
              "      <th>26</th>\n",
              "      <td>Roraima</td>\n",
              "      <td>631.181</td>\n",
              "      <td>RR</td>\n",
              "      <td>Localizado na Região Norte</td>\n",
              "    </tr>\n",
              "  </tbody>\n",
              "</table>\n",
              "</div>"
            ],
            "text/plain": [
              "                 Estado  Habitantes  UF                         Observação\n",
              "0             São Paulo  44.840.384  SP       Localizado na Região Sudeste\n",
              "1          Minas Gerais  21.292.666  MG       Localizado na Região Sudeste\n",
              "2        Rio de Janeiro  17.366.189  RJ       Localizado na Região Sudeste\n",
              "3                 Bahia  14.930.634  BA      Localizado na Região Nordeste\n",
              "4                Paraná  11.516.840  PR           Localizado na Região Sul\n",
              "5     Rio Grande do Sul  11.422.973  RS           Localizado na Região Sul\n",
              "6            Pernambuco   9.616.621  PE      Localizado na Região Nordeste\n",
              "7                 Ceará   9.187.103  CE      Localizado na Região Nordeste\n",
              "8                  Pará   8.690.745  PA         Localizado na Região Norte\n",
              "9        Santa Catarina   7.252.502  SC           Localizado na Região Sul\n",
              "10             Maranhão   7.114.598  MA      Localizado na Região Nordeste\n",
              "11                Goiás   7.113.540  GO  Localizado na Região Centro-Oeste\n",
              "12             Amazonas   4.207.714  AM         Localizado na Região Norte\n",
              "13       Espírito Santo   4.064.052  ES       Localizado na Região Sudeste\n",
              "14              Paraíba   4.039.277  PB      Localizado na Região Nordeste\n",
              "15  Rio Grande do Norte   3.534.165  RN      Localizado na Região Nordeste\n",
              "16          Mato Grosso   3.526.220  MT  Localizado na Região Centro-Oeste\n",
              "17              Alagoas   3.351.543  AL      Localizado na Região Nordeste\n",
              "18                Piauí   3.281.480  PI      Localizado na Região Nordeste\n",
              "19     Distrito Federal   3.055.149  DF  Localizado na Região Centro-Oeste\n",
              "20   Mato Grosso do Sul   2.809.394  MS  Localizado na Região Centro-Oeste\n",
              "21              Sergipe   2.318.822  SE      Localizado na Região Nordeste\n",
              "22             Rondônia   1.796.460  RO         Localizado na Região Norte\n",
              "23            Tocantins   1.590.248  TO         Localizado na Região Norte\n",
              "24                 Acre     894.470  AC         Localizado na Região Norte\n",
              "25                Amapá     861.773  AP         Localizado na Região Norte\n",
              "26              Roraima     631.181  RR         Localizado na Região Norte"
            ]
          },
          "metadata": {
            "tags": []
          },
          "execution_count": 14
        }
      ]
    },
    {
      "cell_type": "markdown",
      "metadata": {
        "id": "lie-Z7K2YnqR"
      },
      "source": [
        "#exporta csv"
      ]
    },
    {
      "cell_type": "code",
      "metadata": {
        "colab": {
          "base_uri": "https://localhost:8080/",
          "height": 17
        },
        "id": "ay7qgr14YgCx",
        "outputId": "27d36b49-67b3-47ee-b0f4-698af531811b"
      },
      "source": [
        "from google.colab import files\n",
        "df.to_csv('estados_habitantes.csv', sep=';', index='False')\n",
        "files.download('estados_habitantes.csv')"
      ],
      "execution_count": null,
      "outputs": [
        {
          "output_type": "display_data",
          "data": {
            "application/javascript": [
              "\n",
              "    async function download(id, filename, size) {\n",
              "      if (!google.colab.kernel.accessAllowed) {\n",
              "        return;\n",
              "      }\n",
              "      const div = document.createElement('div');\n",
              "      const label = document.createElement('label');\n",
              "      label.textContent = `Downloading \"${filename}\": `;\n",
              "      div.appendChild(label);\n",
              "      const progress = document.createElement('progress');\n",
              "      progress.max = size;\n",
              "      div.appendChild(progress);\n",
              "      document.body.appendChild(div);\n",
              "\n",
              "      const buffers = [];\n",
              "      let downloaded = 0;\n",
              "\n",
              "      const channel = await google.colab.kernel.comms.open(id);\n",
              "      // Send a message to notify the kernel that we're ready.\n",
              "      channel.send({})\n",
              "\n",
              "      for await (const message of channel.messages) {\n",
              "        // Send a message to notify the kernel that we're ready.\n",
              "        channel.send({})\n",
              "        if (message.buffers) {\n",
              "          for (const buffer of message.buffers) {\n",
              "            buffers.push(buffer);\n",
              "            downloaded += buffer.byteLength;\n",
              "            progress.value = downloaded;\n",
              "          }\n",
              "        }\n",
              "      }\n",
              "      const blob = new Blob(buffers, {type: 'application/binary'});\n",
              "      const a = document.createElement('a');\n",
              "      a.href = window.URL.createObjectURL(blob);\n",
              "      a.download = filename;\n",
              "      div.appendChild(a);\n",
              "      a.click();\n",
              "      div.remove();\n",
              "    }\n",
              "  "
            ],
            "text/plain": [
              "<IPython.core.display.Javascript object>"
            ]
          },
          "metadata": {
            "tags": []
          }
        },
        {
          "output_type": "display_data",
          "data": {
            "application/javascript": [
              "download(\"download_45ddd6ca-caeb-4dec-8fe8-7c0182a48bad\", \"estados_habitantes.csv\", 1562)"
            ],
            "text/plain": [
              "<IPython.core.display.Javascript object>"
            ]
          },
          "metadata": {
            "tags": []
          }
        }
      ]
    },
    {
      "cell_type": "markdown",
      "metadata": {
        "id": "43o57LyxYtip"
      },
      "source": [
        "#exporta excel"
      ]
    },
    {
      "cell_type": "code",
      "metadata": {
        "colab": {
          "base_uri": "https://localhost:8080/",
          "height": 16
        },
        "id": "1D7nSP_mYhBZ",
        "outputId": "82ea45d8-ddd6-4439-c8fc-d72cdcc445d1"
      },
      "source": [
        "from google.colab import files\n",
        "df.to_excel('estados_habitantes.xlsx', sheet_name='estados_habitantes', index='False')\n",
        "files.download('estados_habitantes.xlsx')"
      ],
      "execution_count": null,
      "outputs": [
        {
          "output_type": "display_data",
          "data": {
            "application/javascript": [
              "\n",
              "    async function download(id, filename, size) {\n",
              "      if (!google.colab.kernel.accessAllowed) {\n",
              "        return;\n",
              "      }\n",
              "      const div = document.createElement('div');\n",
              "      const label = document.createElement('label');\n",
              "      label.textContent = `Downloading \"${filename}\": `;\n",
              "      div.appendChild(label);\n",
              "      const progress = document.createElement('progress');\n",
              "      progress.max = size;\n",
              "      div.appendChild(progress);\n",
              "      document.body.appendChild(div);\n",
              "\n",
              "      const buffers = [];\n",
              "      let downloaded = 0;\n",
              "\n",
              "      const channel = await google.colab.kernel.comms.open(id);\n",
              "      // Send a message to notify the kernel that we're ready.\n",
              "      channel.send({})\n",
              "\n",
              "      for await (const message of channel.messages) {\n",
              "        // Send a message to notify the kernel that we're ready.\n",
              "        channel.send({})\n",
              "        if (message.buffers) {\n",
              "          for (const buffer of message.buffers) {\n",
              "            buffers.push(buffer);\n",
              "            downloaded += buffer.byteLength;\n",
              "            progress.value = downloaded;\n",
              "          }\n",
              "        }\n",
              "      }\n",
              "      const blob = new Blob(buffers, {type: 'application/binary'});\n",
              "      const a = document.createElement('a');\n",
              "      a.href = window.URL.createObjectURL(blob);\n",
              "      a.download = filename;\n",
              "      div.appendChild(a);\n",
              "      a.click();\n",
              "      div.remove();\n",
              "    }\n",
              "  "
            ],
            "text/plain": [
              "<IPython.core.display.Javascript object>"
            ]
          },
          "metadata": {
            "tags": []
          }
        },
        {
          "output_type": "display_data",
          "data": {
            "application/javascript": [
              "download(\"download_66eb4701-fe07-4d3d-8187-39badbfc75a8\", \"estados_habitantes.xlsx\", 6233)"
            ],
            "text/plain": [
              "<IPython.core.display.Javascript object>"
            ]
          },
          "metadata": {
            "tags": []
          }
        }
      ]
    }
  ]
}